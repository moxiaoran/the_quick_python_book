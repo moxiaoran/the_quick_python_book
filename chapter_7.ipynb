{
 "cells": [
  {
   "cell_type": "markdown",
   "metadata": {},
   "source": [
    "# Chapter 7. Dictinaries\n",
    "- Difining a dictionary\n",
    "- Using dictionary operations\n",
    "- Determine what can be used as a key\n",
    "- Creating sparse matrices\n",
    "- Using dictionaries as caches\n",
    "- Trusting the efficiency of dictionaries"
   ]
  },
  {
   "cell_type": "markdown",
   "metadata": {},
   "source": [
    "## 7.1 What is a dictionary?"
   ]
  },
  {
   "cell_type": "code",
   "execution_count": 20,
   "metadata": {},
   "outputs": [],
   "source": [
    "import copy\n",
    "x = []\n",
    "y = {}\n",
    "y[0] = 'Hello'\n",
    "y[1] = 'Goodbye'"
   ]
  },
  {
   "cell_type": "markdown",
   "metadata": {},
   "source": [
    "Trying to do the same thing with a list would result in an error, because in Python, it’s illegal to assign to a position in a list that doesn’t exist."
   ]
  },
  {
   "cell_type": "markdown",
   "metadata": {},
   "source": [
    "## 7.2 Other dictionary operations"
   ]
  },
  {
   "cell_type": "code",
   "execution_count": 1,
   "metadata": {},
   "outputs": [
    {
     "name": "stdout",
     "output_type": "stream",
     "text": [
      "3\n",
      "['red', 'blue', 'green']\n",
      "['rouge', 'bleu', 'vert']\n",
      "[('red', 'rouge'), ('blue', 'bleu'), ('green', 'vert')]\n",
      "[('red', 'rouge'), ('blue', 'bleu')]\n",
      "bleu\n",
      "No translation\n",
      "{0: 'zero', 1: 'one'}\n",
      "{0: 'zero', 1: 'one', '2': 'two'}\n",
      "{0: 'zero', 1: 'one'}\n"
     ]
    },
    {
     "ename": "NameError",
     "evalue": "name 'copy' is not defined",
     "output_type": "error",
     "traceback": [
      "\u001b[0;31m---------------------------------------------------------------------------\u001b[0m",
      "\u001b[0;31mNameError\u001b[0m                                 Traceback (most recent call last)",
      "\u001b[0;32m<ipython-input-1-3e14fc8ae7ab>\u001b[0m in \u001b[0;36m<module>\u001b[0;34m\u001b[0m\n\u001b[1;32m     19\u001b[0m \u001b[0mprint\u001b[0m\u001b[0;34m(\u001b[0m\u001b[0my\u001b[0m\u001b[0;34m)\u001b[0m\u001b[0;34m\u001b[0m\u001b[0;34m\u001b[0m\u001b[0m\n\u001b[1;32m     20\u001b[0m \u001b[0mprint\u001b[0m\u001b[0;34m(\u001b[0m\u001b[0mx\u001b[0m\u001b[0;34m)\u001b[0m\u001b[0;34m\u001b[0m\u001b[0;34m\u001b[0m\u001b[0m\n\u001b[0;32m---> 21\u001b[0;31m \u001b[0mz\u001b[0m \u001b[0;34m=\u001b[0m \u001b[0mcopy\u001b[0m\u001b[0;34m.\u001b[0m\u001b[0mdeepcopy\u001b[0m\u001b[0;34m(\u001b[0m\u001b[0mx\u001b[0m\u001b[0;34m)\u001b[0m\u001b[0;34m\u001b[0m\u001b[0;34m\u001b[0m\u001b[0m\n\u001b[0m\u001b[1;32m     22\u001b[0m \u001b[0mprint\u001b[0m\u001b[0;34m(\u001b[0m\u001b[0mz\u001b[0m\u001b[0;34m)\u001b[0m\u001b[0;34m\u001b[0m\u001b[0;34m\u001b[0m\u001b[0m\n\u001b[1;32m     23\u001b[0m \u001b[0mz\u001b[0m\u001b[0;34m[\u001b[0m\u001b[0;34m\"2\"\u001b[0m\u001b[0;34m]\u001b[0m \u001b[0;34m=\u001b[0m \u001b[0;34m\"two\"\u001b[0m\u001b[0;34m\u001b[0m\u001b[0;34m\u001b[0m\u001b[0m\n",
      "\u001b[0;31mNameError\u001b[0m: name 'copy' is not defined"
     ]
    }
   ],
   "source": [
    "english_to_french = {'red': 'rouge', 'blue': 'bleu', 'green': 'vert'}\n",
    "print(len(english_to_french))\n",
    "print(list(english_to_french.keys()))\n",
    "print(list(english_to_french.values()))\n",
    "# you can also use item method to return all keys and their associate values as a sequence of tuples\n",
    "print(list(english_to_french.items()))\n",
    "# also can use del method\n",
    "del english_to_french['green']\n",
    "print(list(english_to_french.items()))\n",
    "'red' in english_to_french\n",
    "# use get method, this function will return the value associated with the key, or return second argument if provided\n",
    "print(english_to_french.get('blue', \"No translation\"))\n",
    "print(english_to_french.get('character', \"No translation\"))\n",
    "# obtain a copy of dict by using copy methods\n",
    "x = {0: 'zero', 1: 'one'}\n",
    "y = x.copy() # This method makes a shallow copy of the dictionary\n",
    "print(y)\n",
    "y[\"2\"] = \"two\"\n",
    "print(y)\n",
    "print(x)\n",
    "z = copy.deepcopy(x)\n",
    "print(z)\n",
    "z[\"2\"] = \"two\"\n",
    "print(z)\n",
    "print(x)\n",
    "\n",
    "# for deepcopy use deepcopy function\n",
    "z = {1: 'One', 2: 'Two'}\n",
    "\n",
    "# the update method updates a first dictionary with all the key-value pairs of a second dictionary\n",
    "z = {1: 'One', 2: 'Two'}\n",
    "x = {0: 'zero', 1: 'one'}\n",
    "x.update(z)\n",
    "print(x)\n"
   ]
  },
  {
   "cell_type": "markdown",
   "metadata": {},
   "source": [
    "## 7.3 Word counting\n"
   ]
  },
  {
   "cell_type": "code",
   "execution_count": 3,
   "metadata": {},
   "outputs": [
    {
     "name": "stdout",
     "output_type": "stream",
     "text": [
      "The word To occurs 1 times in the string\n",
      "The word be occurs 2 times in the string\n",
      "The word or occurs 1 times in the string\n",
      "The word not occurs 1 times in the string\n",
      "The word to occurs 1 times in the string\n"
     ]
    }
   ],
   "source": [
    "sample_string = \"To be or not to be\"\n",
    "occurrences = {}\n",
    "for word in sample_string.split():\n",
    "    occurrences[word] = occurrences.get(word, 0) + 1 # increment the occurrences count for each word\n",
    "\n",
    "for word in occurrences:\n",
    "    print(\"The word\", word, \"occurs\", occurrences[word], \\\n",
    "         \"times in the string\")"
   ]
  },
  {
   "cell_type": "markdown",
   "metadata": {},
   "source": [
    "## 7.4 What can be used as a key?\n",
    "Any Python object that is immutable and hashable can be used as a key to a dictionary"
   ]
  },
  {
   "cell_type": "markdown",
   "metadata": {},
   "source": [
    "## 7.5 Sparse matrices\n",
    "To conserve memory, it's common for such matrices to be stored in a form in which only the non-zero elemts are actually storied, such representations are called _sparse matrices_"
   ]
  },
  {
   "cell_type": "code",
   "execution_count": 9,
   "metadata": {},
   "outputs": [
    {
     "name": "stdout",
     "output_type": "stream",
     "text": [
      "[[3, 0, -2, 11], [0, 9, 0, 0], [0, 7, 0, 0], [0, 0, 0, -5]]\n",
      "3\n",
      "{(0, 0): 3, (0, 2): -2, (0, 3): 11, (1, 1): 9, (2, 1): 7, (3, 3): -5}\n"
     ]
    }
   ],
   "source": [
    "A = [[3, 0, -2, 11], [0, 9, 0, 0], [0, 7, 0, 0], [0, 0, 0, -5]]\n",
    "print(A)\n",
    "print(A[0][0])\n",
    "# can use tuple indices to create sparse matrices\n",
    "B = {(0, 0): 3, (0, 2): -2, (0, 3): 11,\n",
    "         (1, 1): 9, (2, 1): 7, (3, 3): -5}\n",
    "\n",
    "print(B)\n",
    "# look Numpy package for extensive work with matrices"
   ]
  },
  {
   "cell_type": "markdown",
   "metadata": {},
   "source": [
    "## 7.6 Dictionaries as caches\n",
    "data structures that store results to avoid recalcuating those results over and over again, called caches. \n",
    "in some case, you can define a global empty dictionary and store every calculation inside this dictionary.\n",
    "\n",
    "```python\n",
    "sole_cache = {} \n",
    "def sole(m, n, t):\n",
    "    if (m, n, t) in sole_cache:\n",
    "        return sole_cache[(m, n, t)] else:\n",
    "        # . . . do some time-consuming calculations . . . \n",
    "        sole_cache[(m, n, t)] = result \n",
    "        return result\n",
    "```"
   ]
  },
  {
   "cell_type": "markdown",
   "metadata": {},
   "source": [
    "## 7.7 Efficiency of dictionaries\n",
    "No need to worry about efficient of dictionary"
   ]
  }
 ],
 "metadata": {
  "kernelspec": {
   "display_name": "Python 3",
   "language": "python",
   "name": "python3"
  },
  "language_info": {
   "codemirror_mode": {
    "name": "ipython",
    "version": 3
   },
   "file_extension": ".py",
   "mimetype": "text/x-python",
   "name": "python",
   "nbconvert_exporter": "python",
   "pygments_lexer": "ipython3",
   "version": "3.7.5"
  }
 },
 "nbformat": 4,
 "nbformat_minor": 2
}
