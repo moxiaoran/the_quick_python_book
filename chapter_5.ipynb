{
 "cells": [
  {
   "cell_type": "markdown",
   "metadata": {},
   "source": [
    "# Chapter 5. Lists. tuples, and sets"
   ]
  },
  {
   "cell_type": "markdown",
   "metadata": {},
   "source": [
    "- Manupulating lists and list indices\n",
    "- Modifying lists\n",
    "- Sorting \n",
    "- Using common list operations\n",
    "- Handling nested lists and deep copies\n",
    "- Using tuples\n",
    "- Creating and using sets"
   ]
  },
  {
   "cell_type": "code",
   "execution_count": 1,
   "metadata": {},
   "outputs": [],
   "source": [
    "# This assign a three-element list ot x\n",
    "x = [1, 2, 3]\n"
   ]
  },
  {
   "cell_type": "markdown",
   "metadata": {},
   "source": [
    "## 5.3 Modifying lists"
   ]
  },
  {
   "cell_type": "code",
   "execution_count": 2,
   "metadata": {},
   "outputs": [
    {
     "data": {
      "text/plain": [
       "[1, 'two', 3, 4]"
      ]
     },
     "execution_count": 2,
     "metadata": {},
     "output_type": "execute_result"
    }
   ],
   "source": [
    "x = [1, 2, 3, 4]\n",
    "x[1] = \"two\"\n",
    "x"
   ]
  },
  {
   "cell_type": "code",
   "execution_count": 8,
   "metadata": {},
   "outputs": [
    {
     "name": "stdout",
     "output_type": "stream",
     "text": [
      "[1, 2, 3, 4, 5, 6, 7]\n",
      "[-1, 0, 1, 2, 3, 4, 5, 6, 7]\n"
     ]
    },
    {
     "data": {
      "text/plain": [
       "[-1, 7]"
      ]
     },
     "execution_count": 8,
     "metadata": {},
     "output_type": "execute_result"
    }
   ],
   "source": [
    "x = [1, 2, 3, 4]\n",
    "x[len(x):] = [5, 6, 7] # appends list to end of list\n",
    "print(x)\n",
    "x[:0] = [-1, 0] # append list to front of list\n",
    "print(x)\n",
    "x[1:-1] = [] # remove elements from list\n",
    "x"
   ]
  },
  {
   "cell_type": "markdown",
   "metadata": {},
   "source": [
    "## 5.5 Sorting list"
   ]
  },
  {
   "cell_type": "code",
   "execution_count": 21,
   "metadata": {},
   "outputs": [
    {
     "name": "stdout",
     "output_type": "stream",
     "text": [
      "[3, 9, 2, 34, 2, 4]\n",
      "[2, 2, 3, 4, 9, 34]\n"
     ]
    }
   ],
   "source": [
    "x = [3, 9, 2, 34, 2, 4]\n",
    "print(x)\n",
    "x.sort()\n",
    "print(x)"
   ]
  },
  {
   "cell_type": "markdown",
   "metadata": {},
   "source": [
    "this method does an in-pace sort-that is, change the list being sorted. To sort a list without changing the original list, you have two options. You can use the sorted() build-in function. "
   ]
  },
  {
   "cell_type": "code",
   "execution_count": 22,
   "metadata": {},
   "outputs": [
    {
     "name": "stdout",
     "output_type": "stream",
     "text": [
      "[1, 2, 3, 4]\n",
      "[2, 4, 3, 1]\n",
      "[None, None, None, None]\n",
      "[3, 1, 3, 1, 3, 1, 3, 1]\n"
     ]
    }
   ],
   "source": [
    "x = [2, 4, 3, 1]\n",
    "y = x[:]\n",
    "y.sort()\n",
    "print(y)\n",
    "print(x)\n",
    "\n",
    "z = [None] * 4\n",
    "print(z)\n",
    "z = [3, 1] * 4\n",
    "print(z)"
   ]
  },
  {
   "cell_type": "code",
   "execution_count": 25,
   "metadata": {},
   "outputs": [
    {
     "name": "stdout",
     "output_type": "stream",
     "text": [
      "3\n",
      "4\n",
      "2\n",
      "1\n"
     ]
    }
   ],
   "source": [
    "x = [1, 3, \"five\", 7, -2]\n",
    "print(x.index(7))\n",
    "# print(x.index(5))\n",
    "\n",
    "x = [1, 2, 2, 2, 3, 4, 5, 5, 2]\n",
    "print(x.count(2))\n",
    "print(x.count(5))\n",
    "print(x.count(4))\n"
   ]
  },
  {
   "cell_type": "code",
   "execution_count": 29,
   "metadata": {},
   "outputs": [
    {
     "name": "stdout",
     "output_type": "stream",
     "text": [
      "3\n",
      "True\n",
      "1\n"
     ]
    }
   ],
   "source": [
    "print(len([[1, 2]] * 3))\n",
    "x = [1, 3, \"five\", 7, -2]\n",
    "print(3 in x)\n",
    "print(x.index(3))"
   ]
  },
  {
   "cell_type": "markdown",
   "metadata": {},
   "source": [
    "## 5.6 Nested lists and deep copies"
   ]
  },
  {
   "cell_type": "code",
   "execution_count": 32,
   "metadata": {},
   "outputs": [
    {
     "name": "stdout",
     "output_type": "stream",
     "text": [
      "[[0], 1]\n",
      "[['zero'], 1]\n",
      "[[0], 1]\n"
     ]
    }
   ],
   "source": [
    "nested = [0]\n",
    "original = [nested, 1]\n",
    "print(original)\n",
    "nested[0] = 'zero'\n",
    "print(original)\n",
    "original[0][0] = 0\n",
    "print(original)"
   ]
  },
  {
   "cell_type": "markdown",
   "metadata": {},
   "source": [
    "But if nested is set to another list, the connection between them is broken"
   ]
  },
  {
   "cell_type": "code",
   "execution_count": 33,
   "metadata": {},
   "outputs": [
    {
     "name": "stdout",
     "output_type": "stream",
     "text": [
      "[[0], 1]\n"
     ]
    }
   ],
   "source": [
    "nested = 2\n",
    "print(original)"
   ]
  },
  {
   "cell_type": "markdown",
   "metadata": {},
   "source": [
    "## 5.7 Tuples"
   ]
  },
  {
   "cell_type": "code",
   "execution_count": 36,
   "metadata": {},
   "outputs": [
    {
     "name": "stdout",
     "output_type": "stream",
     "text": [
      "7\n",
      "(7,)\n"
     ]
    }
   ],
   "source": [
    "x, y = 3, 4\n",
    "print((x + y))\n",
    "print((x + y, ))"
   ]
  },
  {
   "cell_type": "code",
   "execution_count": 37,
   "metadata": {},
   "outputs": [
    {
     "name": "stdout",
     "output_type": "stream",
     "text": [
      "1 2 [3, 4]\n"
     ]
    }
   ],
   "source": [
    "x = (1, 2, 3, 4)\n",
    "a, b, *c = x\n",
    "print(a, b, c)"
   ]
  },
  {
   "cell_type": "markdown",
   "metadata": {},
   "source": [
    "## 5.8 Sets"
   ]
  },
  {
   "cell_type": "code",
   "execution_count": 40,
   "metadata": {},
   "outputs": [
    {
     "name": "stdout",
     "output_type": "stream",
     "text": [
      "{1, 2, 3, 5}\n",
      "{1, 2, 3, 5, 6}\n"
     ]
    },
    {
     "data": {
      "text/plain": [
       "{1}"
      ]
     },
     "execution_count": 40,
     "metadata": {},
     "output_type": "execute_result"
    }
   ],
   "source": [
    "x = set([1, 2, 3, 1, 3, 5])\n",
    "x\n",
    "print(x)\n",
    "x.add(6)\n",
    "print(x)\n",
    "x.remove(5)\n",
    "1 in x\n",
    "y = set([1, 7, 8, 9])\n",
    "\n",
    "x | y\n",
    "x & y"
   ]
  },
  {
   "cell_type": "code",
   "execution_count": 41,
   "metadata": {},
   "outputs": [
    {
     "name": "stdout",
     "output_type": "stream",
     "text": [
      "frozenset({1, 2, 3, 5})\n",
      "{1, 2, 3, 5, frozenset({1, 2, 3, 5})}\n"
     ]
    }
   ],
   "source": [
    "x = set([1, 2, 3, 1, 3, 5])\n",
    "z = frozenset(x)\n",
    "print(z)\n",
    "x.add(z)\n",
    "print(x)"
   ]
  },
  {
   "cell_type": "code",
   "execution_count": 44,
   "metadata": {},
   "outputs": [
    {
     "name": "stdout",
     "output_type": "stream",
     "text": [
      "(1, 2, 3, 5, frozenset({1, 2, 3, 5}))\n"
     ]
    }
   ],
   "source": [
    "list(x)"
   ]
  },
  {
   "cell_type": "code",
   "execution_count": null,
   "metadata": {},
   "outputs": [],
   "source": []
  }
 ],
 "metadata": {
  "kernelspec": {
   "display_name": "Python 3",
   "language": "python",
   "name": "python3"
  },
  "language_info": {
   "codemirror_mode": {
    "name": "ipython",
    "version": 3
   },
   "file_extension": ".py",
   "mimetype": "text/x-python",
   "name": "python",
   "nbconvert_exporter": "python",
   "pygments_lexer": "ipython3",
   "version": "3.7.5"
  }
 },
 "nbformat": 4,
 "nbformat_minor": 2
}
