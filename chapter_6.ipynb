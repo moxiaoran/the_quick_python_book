{
 "cells": [
  {
   "cell_type": "markdown",
   "metadata": {},
   "source": [
    "# Chapter 6 - Strings\n",
    "This chapter covers\n",
    "- Understanding strings as sequences of characters\n",
    "- using basic string operations\n",
    "- inserting special characters and escape sequences\n",
    "- converting from objects to strings\n",
    "- Formatting strings\n",
    "- Using the byte type"
   ]
  },
  {
   "cell_type": "markdown",
   "metadata": {},
   "source": [
    "## 6.1 Strings as sequences of characters"
   ]
  },
  {
   "cell_type": "code",
   "execution_count": 1,
   "metadata": {},
   "outputs": [
    {
     "name": "stdout",
     "output_type": "stream",
     "text": [
      "H\n",
      "o\n",
      "ello\n"
     ]
    }
   ],
   "source": [
    "x = \"Hello\"\n",
    "print(x[0])\n",
    "print(x[-1])\n",
    "print(x[1:])"
   ]
  },
  {
   "cell_type": "markdown",
   "metadata": {},
   "source": [
    "*strings aren't lists of characets*, _strings can't be modified._ "
   ]
  },
  {
   "cell_type": "markdown",
   "metadata": {},
   "source": [
    "## 6.2 Basic string operations"
   ]
  },
  {
   "cell_type": "code",
   "execution_count": 5,
   "metadata": {},
   "outputs": [
    {
     "name": "stdout",
     "output_type": "stream",
     "text": [
      "Hello World\n",
      "xxxxxxxx\n"
     ]
    }
   ],
   "source": [
    "# combine strings\n",
    "x = \"Hello \" + \"World\"\n",
    "print(x)\n",
    "# analogues string multiplication\n",
    "print(8 * \"x\")"
   ]
  },
  {
   "cell_type": "markdown",
   "metadata": {},
   "source": [
    "## 6.3 Special characers and escape sequences\n",
    "\\n: newline characeters\n",
    "\\t represents the tab \n",
    "sequences of characters that start with a backslash and that are used to represent other character are called _escape sequences_, to represent _special character_\n",
    "### 6.3.1 Basic escape sequences\n",
    "```python\n",
    "x = [\"\\'\", \"\\\"\", \"\\\\\", \"\\a\", \"\\b\", \"\\f\", \"\\n\", \"\\r\", \"\\t\", \"\\t\", \"\\v\"]\n",
    "for spec_ch in x:\n",
    "    print(x)\n",
    "```\n",
    "ASCII character set\n",
    "### 6.3.2 Numeric (octal and hexadecimal) and Unicode escape sequences"
   ]
  },
  {
   "cell_type": "code",
   "execution_count": 28,
   "metadata": {},
   "outputs": [
    {
     "name": "stdout",
     "output_type": "stream",
     "text": [
      "m\n",
      "m\n",
      "m\n",
      "\n",
      "\n",
      "\n",
      "\n",
      "a\n",
      "á\n",
      "á\n"
     ]
    }
   ],
   "source": [
    "print(\"m\")\n",
    "print(\"\\155\")\n",
    "print(\"\\x6D\")\n",
    "print(\"\\n\")\n",
    "print(\"\\012\")\n",
    "unicode_a = '\\N{LATIN SMALL LETTER A}' # Escape by Unicode name\n",
    "print(unicode_a)\n",
    "unicode_a_with_acute = '\\N{LATIN SMALL LETTER A WITH ACUTE}'\n",
    "print(unicode_a_with_acute)\n",
    "print(\"\\u00E1\") # Escape by number using \\u"
   ]
  },
  {
   "cell_type": "markdown",
   "metadata": {},
   "source": [
    "The Unicode character set includes the common ASCII characters."
   ]
  },
  {
   "cell_type": "markdown",
   "metadata": {},
   "source": [
    "## 6.4 String methods\n",
    "### 6.4.1 The split and join methods\n",
    "'+' to join characters is not efficient"
   ]
  },
  {
   "cell_type": "code",
   "execution_count": 30,
   "metadata": {},
   "outputs": [
    {
     "name": "stdout",
     "output_type": "stream",
     "text": [
      "Join puts spaces between elements\n"
     ]
    }
   ],
   "source": [
    "print(\" \".join([\"Join\", \"puts\", \"spaces\", \"between\", \"elements\"]))"
   ]
  },
  {
   "cell_type": "markdown",
   "metadata": {},
   "source": [
    "'split' splits on any whitespace by default.  you can tell it to split on a particular sequecne by passing in \n",
    "an optional argument:"
   ]
  },
  {
   "cell_type": "code",
   "execution_count": 36,
   "metadata": {},
   "outputs": [
    {
     "name": "stdout",
     "output_type": "stream",
     "text": [
      "['You', 'can', 'have', 'tabs', 'and', 'newlines']\n"
     ]
    },
    {
     "data": {
      "text/plain": [
       "['Mi', 'i', 'ippi']"
      ]
     },
     "execution_count": 36,
     "metadata": {},
     "output_type": "execute_result"
    }
   ],
   "source": [
    "x = \"You\\t\\t can have tabs\\t\\n \\t and newlines \\n\\n \"\n",
    "print(x.split())\n",
    "x = \"Mississippi\"\n",
    "x.split(\"ss\")"
   ]
  },
  {
   "cell_type": "code",
   "execution_count": 45,
   "metadata": {},
   "outputs": [
    {
     "name": "stdout",
     "output_type": "stream",
     "text": [
      "Help on method_descriptor in str:\n",
      "\n",
      "str.split = split(self, /, sep=None, maxsplit=-1)\n",
      "    Return a list of the words in the string, using sep as the delimiter string.\n",
      "    \n",
      "    sep\n",
      "      The delimiter according which to split the string.\n",
      "      None (the default value) means split according to any whitespace,\n",
      "      and discard empty strings from the result.\n",
      "    maxsplit\n",
      "      Maximum number of splits to do.\n",
      "      -1 (the default value) means no limit.\n",
      "\n",
      "['a', 'b c d']\n",
      "['a', 'b', 'c d']\n",
      "['a', 'b', 'c', 'd']\n"
     ]
    }
   ],
   "source": [
    "help('str.split')\n",
    "x = 'a b c d'\n",
    "print(x.split(sep = ' ', maxsplit = 1))\n",
    "print(x.split(sep = ' ', maxsplit = 2))\n",
    "print(x.split(sep = ' ', maxsplit = 10))"
   ]
  },
  {
   "cell_type": "code",
   "execution_count": 47,
   "metadata": {},
   "outputs": [
    {
     "data": {
      "text/plain": [
       "'this-is-a-test'"
      ]
     },
     "execution_count": 47,
     "metadata": {},
     "output_type": "execute_result"
    }
   ],
   "source": [
    "x = \"this is a test\"\n",
    "\"-\".join(x.split())"
   ]
  },
  {
   "cell_type": "markdown",
   "metadata": {},
   "source": [
    "### 6.4.2 Converting strings to numbers\n",
    "You can use 'int' and 'float' to convert strings to int or floating numbers.\n",
    "If they're passed a strings that can't be interpreted as a number, 'valueError' will raise\n",
    "### 6.4.3 Getting rid of extra white space\n",
    "'strip', 'lstrip', 'rstrip' functions\n",
    "\n",
    "strip: remove whitespace at the beginning and the end  of the string\n",
    "\n",
    "lstrip and rstrip: only remove whitespace at the left or right end of the original string"
   ]
  },
  {
   "cell_type": "code",
   "execution_count": 49,
   "metadata": {},
   "outputs": [
    {
     "data": {
      "text/plain": [
       "'   Hello,   world'"
      ]
     },
     "execution_count": 49,
     "metadata": {},
     "output_type": "execute_result"
    }
   ],
   "source": [
    "x = \"   Hello,   world \\t\\t \"\n",
    "x.strip()\n",
    "x.lstrip()\n",
    "x.rstrip()"
   ]
  },
  {
   "cell_type": "markdown",
   "metadata": {},
   "source": [
    "Check what constitute 'whitespace'"
   ]
  },
  {
   "cell_type": "code",
   "execution_count": 50,
   "metadata": {},
   "outputs": [
    {
     "data": {
      "text/plain": [
       "' \\t\\n\\r\\x0b\\x0c'"
      ]
     },
     "execution_count": 50,
     "metadata": {},
     "output_type": "execute_result"
    }
   ],
   "source": [
    "import string\n",
    "string.whitespace"
   ]
  },
  {
   "cell_type": "code",
   "execution_count": 53,
   "metadata": {},
   "outputs": [
    {
     "name": "stdout",
     "output_type": "stream",
     "text": [
      ".python.org\n",
      "www.python.\n",
      "python\n"
     ]
    }
   ],
   "source": [
    "x = \"www.python.org\"\n",
    "print(x.strip(\"w\")) # strips of all ws\n",
    "print(x.strip(\"gor\"))  # strips off all gs, os, and rs\n",
    "print(x.strip(\".gorw\")) # strips off all dots, gs, os, rs, and ws"
   ]
  },
  {
   "cell_type": "code",
   "execution_count": 54,
   "metadata": {},
   "outputs": [
    {
     "data": {
      "text/plain": [
       "'name, date'"
      ]
     },
     "execution_count": 54,
     "metadata": {},
     "output_type": "execute_result"
    }
   ],
   "source": [
    "x = \"(name, date),\\n\"\n",
    "x.strip(\"\\n)(,\")"
   ]
  },
  {
   "cell_type": "markdown",
   "metadata": {},
   "source": [
    "### 6.4.4 String searching\n",
    "re, regular expresions, module is more flexible but will be introduce later\n",
    "\n",
    "four basic string-searching method: find, rfind, index, and rindex\n"
   ]
  },
  {
   "cell_type": "code",
   "execution_count": 56,
   "metadata": {},
   "outputs": [
    {
     "name": "stdout",
     "output_type": "stream",
     "text": [
      "Help on method_descriptor in str:\n",
      "\n",
      "str.find = find(...)\n",
      "    S.find(sub[, start[, end]]) -> int\n",
      "    \n",
      "    Return the lowest index in S where substring sub is found,\n",
      "    such that sub is contained within S[start:end].  Optional\n",
      "    arguments start and end are interpreted as in slice notation.\n",
      "    \n",
      "    Return -1 on failure.\n",
      "\n",
      "2\n",
      "-1\n"
     ]
    }
   ],
   "source": [
    "help(\"str.find\")\n",
    "x = \"Mississippi\"\n",
    "print(x.find(\"ss\"))\n",
    "print(x.find(\"zz\"))"
   ]
  },
  {
   "cell_type": "code",
   "execution_count": 57,
   "metadata": {},
   "outputs": [
    {
     "data": {
      "text/plain": [
       "2"
      ]
     },
     "execution_count": 57,
     "metadata": {},
     "output_type": "execute_result"
    }
   ],
   "source": [
    "x.count(\"ss\")"
   ]
  },
  {
   "cell_type": "markdown",
   "metadata": {},
   "source": [
    "two other methods: startswith and endswith."
   ]
  },
  {
   "cell_type": "code",
   "execution_count": 59,
   "metadata": {},
   "outputs": [
    {
     "name": "stdout",
     "output_type": "stream",
     "text": [
      "True\n",
      "False\n",
      "True\n",
      "False\n"
     ]
    }
   ],
   "source": [
    "print(x.startswith(\"Miss\"))\n",
    "print(x.startswith(\"Mist\"))\n",
    "print(x.endswith(\"pi\"))\n",
    "print(x.endswith(\"p\"))"
   ]
  },
  {
   "cell_type": "code",
   "execution_count": 60,
   "metadata": {},
   "outputs": [
    {
     "data": {
      "text/plain": [
       "True"
      ]
     },
     "execution_count": 60,
     "metadata": {},
     "output_type": "execute_result"
    }
   ],
   "source": [
    "# quick check: a line ends with the string \"rejected\"\n",
    "x = \"xxx xxx xxxxxxx \\v \\n\\t  xxxxx rejected\"\n",
    "x.endswith(\"rejected\")"
   ]
  },
  {
   "cell_type": "markdown",
   "metadata": {},
   "source": [
    "### 6.4.5 Modifying strings\n",
    "*Strings are immutable, but string object have several method that can operate on that string and return a new string that's a modified version of the original string*"
   ]
  },
  {
   "cell_type": "code",
   "execution_count": 62,
   "metadata": {},
   "outputs": [
    {
     "name": "stdout",
     "output_type": "stream",
     "text": [
      "Mi++++i++++ippi\n",
      "Mississippi\n"
     ]
    }
   ],
   "source": [
    "x = \"Mississippi\"\n",
    "print(x.replace(\"ss\", \"++++\"))\n",
    "print(x)\n"
   ]
  },
  {
   "cell_type": "code",
   "execution_count": 66,
   "metadata": {},
   "outputs": [
    {
     "name": "stdout",
     "output_type": "stream",
     "text": [
      "Help on built-in function maketrans in str:\n",
      "\n",
      "str.maketrans = maketrans(x, y=None, z=None, /)\n",
      "    Return a translation table usable for str.translate().\n",
      "    \n",
      "    If there is only one argument, it must be a dictionary mapping Unicode\n",
      "    ordinals (integers) or characters to Unicode ordinals, strings or None.\n",
      "    Character keys will be then converted to ordinals.\n",
      "    If there are two arguments, they must be strings of equal length, and\n",
      "    in the resulting dictionary, each character in x will be mapped to the\n",
      "    character at the same position in y. If there is a third argument, it\n",
      "    must be a string, whose characters will be mapped to None in the result.\n",
      "\n",
      "Help on method_descriptor in str:\n",
      "\n",
      "str.translate = translate(self, table, /)\n",
      "    Replace each character in the string using the given translation table.\n",
      "    \n",
      "      table\n",
      "        Translation table, which must be a mapping of Unicode ordinals to\n",
      "        Unicode ordinals, strings, or None.\n",
      "    \n",
      "    The table must implement lookup/indexing via __getitem__, for instance a\n",
      "    dictionary or list.  If this operation raises LookupError, the character is\n",
      "    left untouched.  Characters mapped to None are deleted.\n",
      "\n"
     ]
    }
   ],
   "source": [
    "help(\"str.maketrans\")\n",
    "help(\"str.translate\")"
   ]
  },
  {
   "cell_type": "code",
   "execution_count": 74,
   "metadata": {},
   "outputs": [
    {
     "name": "stdout",
     "output_type": "stream",
     "text": [
      "{126: 33, 94: 38, 40: 91, 41: 93}\n"
     ]
    },
    {
     "data": {
      "text/plain": [
       "'!x & [y % z]'"
      ]
     },
     "execution_count": 74,
     "metadata": {},
     "output_type": "execute_result"
    }
   ],
   "source": [
    "x = \"~x ^ (y % z)\"\n",
    "table = x.maketrans(\"~^()\", \"!&[]\")\n",
    "print(table)\n",
    "print(x.translate(table))"
   ]
  },
  {
   "cell_type": "markdown",
   "metadata": {},
   "source": [
    "### 6.4.6 Modifying strings with list manupulations\n",
    "you can turn string into list of characters, do whatever you want, and then turn them back into a string"
   ]
  },
  {
   "cell_type": "code",
   "execution_count": 82,
   "metadata": {},
   "outputs": [
    {
     "name": "stdout",
     "output_type": "stream",
     "text": [
      "['H', 'e', 'l', 'l', 'o', ',', ' ', 'W', 'o', 'r', 'l', 'd']\n",
      ",olleH\n"
     ]
    }
   ],
   "source": [
    "text = \"Hello, World\"\n",
    "# removes everything after comma, and reverse the text\n",
    "wordList = list(text) \n",
    "print(wordList)\n",
    "wordList.index(\",\")\n",
    "wordList[6:] = []\n",
    "wordList.reverse()\n",
    "text = \"\".join(wordList) # join the text with no space between\n",
    "print(text)"
   ]
  },
  {
   "cell_type": "markdown",
   "metadata": {},
   "source": [
    "### 6.4.7 Useful methods and constants\n",
    "strings object have several useful methods to report various characteristics of the string"
   ]
  },
  {
   "cell_type": "code",
   "execution_count": 84,
   "metadata": {},
   "outputs": [
    {
     "name": "stdout",
     "output_type": "stream",
     "text": [
      "True\n",
      "False\n",
      "False\n",
      "True\n"
     ]
    }
   ],
   "source": [
    "x = \"123\"\n",
    "print(x.isdigit())\n",
    "print(x.isalpha())\n",
    "x = 'M'\n",
    "print(x.islower())\n",
    "print(x.isupper())\n"
   ]
  },
  {
   "cell_type": "code",
   "execution_count": 104,
   "metadata": {},
   "outputs": [
    {
     "name": "stdout",
     "output_type": "stream",
     "text": [
      "['abc', 'def', 'ghi', 'klm', 'nop']\n"
     ]
    }
   ],
   "source": [
    "# What code would you use on each element to remove just the double quotes?\n",
    "x = ['\"abc\"', 'def', '\"ghi\"', '\"klm\"', 'nop']\n",
    "y = []\n",
    "for element in x:\n",
    "    if element.startswith(\"\\\"\") and element.endswith(\"\\\"\"):\n",
    "        y.append(element.replace(\"\\\"\", \"\"))\n",
    "    else:\n",
    "        y.append(element)\n",
    "\n",
    "print(y)"
   ]
  },
  {
   "cell_type": "code",
   "execution_count": 107,
   "metadata": {},
   "outputs": [
    {
     "data": {
      "text/plain": [
       "9"
      ]
     },
     "execution_count": 107,
     "metadata": {},
     "output_type": "execute_result"
    }
   ],
   "source": [
    "# what could could you use to find the position of the *last* p in Mississippi?\n",
    "x = \"Mississippi\"\n",
    "x.rfind(\"p\")"
   ]
  },
  {
   "cell_type": "code",
   "execution_count": 115,
   "metadata": {},
   "outputs": [
    {
     "name": "stdout",
     "output_type": "stream",
     "text": [
      "Mississipi\n"
     ]
    }
   ],
   "source": [
    "# When you’ve found that position, what code would you use to remove just that letter?\n",
    "y = list(x)\n",
    "del y[x.rfind(\"p\")]\n",
    "text = \"\".join(y)\n",
    "print(text)"
   ]
  },
  {
   "cell_type": "markdown",
   "metadata": {},
   "source": [
    "## 6.5 Converting from objects to strings\n",
    "almost everthing on python can be conver to string use 'repr' function"
   ]
  },
  {
   "cell_type": "code",
   "execution_count": 118,
   "metadata": {},
   "outputs": [
    {
     "name": "stdout",
     "output_type": "stream",
     "text": [
      "this list x is [1, 2, [3, 4]]\n"
     ]
    }
   ],
   "source": [
    "repr([1, 2, 3])\n",
    "x = [1]\n",
    "x.append(2)\n",
    "x.append([3, 4])\n",
    "print('this list x is ' + repr(x))"
   ]
  },
  {
   "cell_type": "code",
   "execution_count": 127,
   "metadata": {},
   "outputs": [
    {
     "name": "stdout",
     "output_type": "stream",
     "text": [
      "<built-in function len>\n",
      "Help on built-in function repr in module builtins:\n",
      "\n",
      "repr(obj, /)\n",
      "    Return the canonical string representation of the object.\n",
      "    \n",
      "    For many object types, including most builtins, eval(repr(obj)) == obj.\n",
      "\n"
     ]
    },
    {
     "data": {
      "text/plain": [
       "'[1, 2, [3, 4]]'"
      ]
     },
     "execution_count": 127,
     "metadata": {},
     "output_type": "execute_result"
    }
   ],
   "source": [
    "print(repr(len))\n",
    "help(repr)\n",
    "str(len)\n",
    "str(x)"
   ]
  },
  {
   "cell_type": "markdown",
   "metadata": {},
   "source": [
    "## 6.6 Using the format method\n",
    "### 6.6.1 The format method and positional parameters"
   ]
  },
  {
   "cell_type": "code",
   "execution_count": 131,
   "metadata": {},
   "outputs": [
    {
     "data": {
      "text/plain": [
       "'Ambrosia is the food of the gods'"
      ]
     },
     "execution_count": 131,
     "metadata": {},
     "output_type": "execute_result"
    }
   ],
   "source": [
    "\"{} is the {} of {}\".format(\"Ambrosia\", \"food\", \"the gods\")"
   ]
  },
  {
   "cell_type": "markdown",
   "metadata": {},
   "source": [
    "### 6.6.2 The format method and named parameters\n",
    "The 'format' method also recognizes named parameters and repalcement fields:\n",
    "\n",
    "You can also use both positional and named parameters."
   ]
  },
  {
   "cell_type": "code",
   "execution_count": 134,
   "metadata": {},
   "outputs": [
    {
     "data": {
      "text/plain": [
       "'Ambrosia is the food of the gods'"
      ]
     },
     "execution_count": 134,
     "metadata": {},
     "output_type": "execute_result"
    }
   ],
   "source": [
    "\"{food} is the food of {user}\".format(food = \"Ambrosia\", user = \"the gods\")\n",
    "\"{0} is the food of {user[1]}\".format(\"Ambrosia\", user = [\"men\", \"the gods\", \"others\"])"
   ]
  },
  {
   "cell_type": "markdown",
   "metadata": {},
   "source": [
    "### 6.6.3 Format specifiers"
   ]
  },
  {
   "cell_type": "code",
   "execution_count": 141,
   "metadata": {},
   "outputs": [
    {
     "name": "stdout",
     "output_type": "stream",
     "text": [
      "Help on built-in function format in module builtins:\n",
      "\n",
      "format(value, format_spec='', /)\n",
      "    Return value.__format__(format_spec)\n",
      "    \n",
      "    format_spec defaults to the empty string.\n",
      "    See the Format Specification Mini-Language section of help('FORMATTING') for\n",
      "    details.\n",
      "\n",
      "Ambrosia   is the food of gods\n",
      "Ambrosia   is the food of gods\n",
      "Ambrosia   is the food of gods\n",
      "  Ambrosia is the food of gods\n",
      "&&Ambrosia is the food of gods\n"
     ]
    }
   ],
   "source": [
    "help(format)\n",
    "print(\"{0:10} is the food of gods\".format(\"Ambrosia\"))\n",
    "print(\"{0:{1}} is the food of gods\".format(\"Ambrosia\", 10))\n",
    "print(\"{food:{width}} is the food of gods\".format(food = \"Ambrosia\", width = 10))\n",
    "print(\"{0:>10} is the food of gods\".format(\"Ambrosia\")) # forces right-justification of the field and pads with space\n",
    "print(\"{0:&>10} is the food of gods\".format(\"Ambrosia\")) # :&>10 forces right-justification and pads with & instead of spaces\n"
   ]
  },
  {
   "cell_type": "code",
   "execution_count": 151,
   "metadata": {},
   "outputs": [
    {
     "name": "stdout",
     "output_type": "stream",
     "text": [
      "  4\n",
      "$$$$3\n",
      "    1\n",
      "    1:$$$$3\n"
     ]
    }
   ],
   "source": [
    "x = \"{1:{0}}\".format(3, 4) # two spaces and 4\n",
    "print(x)\n",
    "x = \"{0:$>5}\".format(3) # $$$$$3\n",
    "print(x)\n",
    "x = \"{a:{b}}\".format(a=1, b=5) # 4 sapces and 1\n",
    "print(x)\n",
    "x = \"{a:{b}}:{0:$>5}\".format(3, 4, a=1, b=5, c=10) # no idea\n",
    "print(x)"
   ]
  },
  {
   "cell_type": "markdown",
   "metadata": {},
   "source": [
    "## 6.8 String interpolation"
   ]
  },
  {
   "cell_type": "markdown",
   "metadata": {},
   "source": [
    "## 6.9 Bytess"
   ]
  },
  {
   "cell_type": "code",
   "execution_count": 156,
   "metadata": {},
   "outputs": [
    {
     "name": "stdout",
     "output_type": "stream",
     "text": [
      "b'\\xc3\\xa1'\n",
      "á\n"
     ]
    }
   ],
   "source": [
    "unicode_a_with_acute = '\\N{LATIN SMALL LETTER A WITH ACUTE}'\n",
    "xb = unicode_a_with_acute.encode()\n",
    "print(xb)\n",
    "type(xb)\n",
    "print(xb.decode())"
   ]
  },
  {
   "cell_type": "markdown",
   "metadata": {},
   "source": [
    "QUICK CHECK: BYTES\n",
    "\n",
    "For which of the following kinds of data would you want to use a string? For which could you use bytes?"
   ]
  },
  {
   "cell_type": "markdown",
   "metadata": {},
   "source": [
    "Data file storing binary data: bytes\n",
    "Text in a language with accented characters: encoding\n",
    "Text with only uppercase and lowercase roman characters: encoding\n",
    "A series of integers no larger than 255: encoding"
   ]
  }
 ],
 "metadata": {
  "kernelspec": {
   "display_name": "Python 3",
   "language": "python",
   "name": "python3"
  },
  "language_info": {
   "codemirror_mode": {
    "name": "ipython",
    "version": 3
   },
   "file_extension": ".py",
   "mimetype": "text/x-python",
   "name": "python",
   "nbconvert_exporter": "python",
   "pygments_lexer": "ipython3",
   "version": "3.7.5"
  }
 },
 "nbformat": 4,
 "nbformat_minor": 2
}
