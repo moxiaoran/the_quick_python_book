{
 "cells": [
  {
   "cell_type": "markdown",
   "metadata": {},
   "source": [
    "# Chapter 9: Funtions\n",
    "- Defining functions\n",
    "- Using function parameters\n",
    "- Passing mutable objects as parameters\n",
    "- Uderstanding local and global variable\n",
    "- Creating and using generator function\n",
    "- Creating and using lambda expressions\n",
    "- Using decorators"
   ]
  },
  {
   "cell_type": "markdown",
   "metadata": {},
   "source": [
    "## 9.1 Basic function definitions"
   ]
  },
  {
   "cell_type": "code",
   "execution_count": 4,
   "metadata": {},
   "outputs": [
    {
     "name": "stdout",
     "output_type": "stream",
     "text": [
      "Return the factorail of the given number.\n",
      "24\n"
     ]
    }
   ],
   "source": [
    "def fact(n):\n",
    "    \"\"\"Return the factorail of the given number.\"\"\" # Dcoumentation string\n",
    "    r = 1\n",
    "    while n > 0:\n",
    "        r = r * n\n",
    "        n = n - 1\n",
    "    return r\n",
    "\n",
    "print(fact.__doc__)\n",
    "\n",
    "x = fact(4)\n",
    "print(x)"
   ]
  },
  {
   "cell_type": "markdown",
   "metadata": {},
   "source": [
    "## 9.2 Function parameter options\n",
    "### 9.2.1 Position parameters\n",
    "The simplest way to pass parameters to a function in Python is by position. \n",
    "\n",
    "Function parameters can have default values. "
   ]
  },
  {
   "cell_type": "code",
   "execution_count": 6,
   "metadata": {},
   "outputs": [
    {
     "name": "stdout",
     "output_type": "stream",
     "text": [
      "27\n"
     ]
    }
   ],
   "source": [
    "def power(x, y):\n",
    "    r = 1\n",
    "    while y > 0:\n",
    "        r = r * x\n",
    "        y = y - 1\n",
    "    return r\n",
    "\n",
    "print(power(3, 3))"
   ]
  },
  {
   "cell_type": "markdown",
   "metadata": {},
   "source": [
    "### 9.2.2 Passing arguments by parameter name\n",
    "### 9.2.3 Variable numbers of arguments\n",
    "Dealing with an indefinite number of positional arguments, all excess non-key-word arguments in a call of a function to be collected together and assigned as a tuple to the given parameter"
   ]
  },
  {
   "cell_type": "code",
   "execution_count": 11,
   "metadata": {},
   "outputs": [
    {
     "name": "stdout",
     "output_type": "stream",
     "text": [
      "(8, (3, 2, 2, 8))\n"
     ]
    }
   ],
   "source": [
    "def maximum(*numbers):\n",
    "    if len(numbers) == 0:\n",
    "        return None\n",
    "    else:\n",
    "        maxnum = numbers[0]\n",
    "        for n in numbers[1:]:\n",
    "            if n > maxnum:\n",
    "                maxnum = n\n",
    "        return maxnum, numbers\n",
    "\n",
    "print(maximum(3, 2, 2, 8))"
   ]
  },
  {
   "cell_type": "markdown",
   "metadata": {},
   "source": [
    "Dealing with an indefinite number of arguments passed by keyword, all excess-passed arguments into a dictionary"
   ]
  },
  {
   "cell_type": "code",
   "execution_count": 16,
   "metadata": {},
   "outputs": [
    {
     "name": "stdout",
     "output_type": "stream",
     "text": [
      "x: 2, y: 1, key in 'other': ['foo', 'bar']\n",
      "The total values in 'other' is 7\n"
     ]
    },
    {
     "data": {
      "text/plain": [
       "{'foo': 3, 'bar': 4}"
      ]
     },
     "execution_count": 16,
     "metadata": {},
     "output_type": "execute_result"
    }
   ],
   "source": [
    "def example_fun(x, y, **other):\n",
    "    print(\"x: {0}, y: {1}, key in 'other': {2}\".format(x, y, list(other.keys())))\n",
    "    other_total = 0\n",
    "    for k in other.keys():\n",
    "        other_total = other_total + other[k]\n",
    "    print(\"The total values in 'other' is {0}\".format(other_total))\n",
    "    return other\n",
    "\n",
    "example_fun(2, y = \"1\", foo = 3, bar = 4)"
   ]
  },
  {
   "cell_type": "markdown",
   "metadata": {},
   "source": [
    "### 9.2.4 Mixing argument-passing techniques"
   ]
  },
  {
   "cell_type": "code",
   "execution_count": 30,
   "metadata": {},
   "outputs": [
    {
     "data": {
      "text/plain": [
       "[8, 3, 2, 2]"
      ]
     },
     "execution_count": 30,
     "metadata": {},
     "output_type": "execute_result"
    }
   ],
   "source": [
    "# How would you write a function that could take any number of unnamed arguments and print their values out in reverse order?\n",
    "def reverse(*other):\n",
    "    if len(other) == 0:\n",
    "        return None\n",
    "    else:\n",
    "        return(sorted(other, reverse = True))\n",
    "\n",
    "reverse(3, 2, 2, 8)"
   ]
  },
  {
   "cell_type": "markdown",
   "metadata": {},
   "source": [
    "## 9.3 Mutable objects as arguments\n",
    "The parameter become a new reference to the object. \n",
    "\n",
    "For immutable objects, what is done with a parameter has no effect outside the function.\n",
    "\n",
    "But if you pss in mutable object, any change made to the object changes what the argument is referencing outside the function. "
   ]
  },
  {
   "cell_type": "code",
   "execution_count": 32,
   "metadata": {},
   "outputs": [
    {
     "data": {
      "text/plain": [
       "(5, [1, 2, 3], [4, 5])"
      ]
     },
     "execution_count": 32,
     "metadata": {},
     "output_type": "execute_result"
    }
   ],
   "source": [
    "def f(n, list1, list2):\n",
    "    list1.append(3)\n",
    "    list2 = [4, 5, 6]\n",
    "    n = n + 1\n",
    "\n",
    "x = 5\n",
    "y = [1, 2]\n",
    "z = [4, 5]\n",
    "\n",
    "f(x, y, z)\n",
    "\n",
    "x, y, z"
   ]
  },
  {
   "cell_type": "markdown",
   "metadata": {},
   "source": [
    "## 9.4 Local, nonlocal, and global variables\n",
    "any variables created within a function by an assigment, are local to the function.\n",
    "\n",
    "You can explicity make a variable global by declaring it so before the variable is used, using the `global` statement"
   ]
  },
  {
   "cell_type": "code",
   "execution_count": 34,
   "metadata": {},
   "outputs": [
    {
     "name": "stdout",
     "output_type": "stream",
     "text": [
      "1 two\n"
     ]
    }
   ],
   "source": [
    "def fun():\n",
    "    global a\n",
    "    a = 1\n",
    "    b = 2\n",
    "    \n",
    "a = \"one\"\n",
    "b = \"two\"\n",
    "\n",
    "fun()\n",
    "\n",
    "print(a, b)"
   ]
  },
  {
   "cell_type": "markdown",
   "metadata": {},
   "source": [
    "Similar to the global statement is the nonlocal statement, which causes an identifier to refer to a previously bound variable in the closest enclosing scope."
   ]
  },
  {
   "cell_type": "code",
   "execution_count": 38,
   "metadata": {},
   "outputs": [
    {
     "name": "stdout",
     "output_type": "stream",
     "text": [
      "top level -> g_var: 0 nl_var: 0\n",
      "top level -> g_var: 0 nl_var: 2\n",
      "top level -> g_var: 1 nl_var: 4\n",
      "top level -> g_var: 1 nl_var: 4\n",
      "top level -> g_var: 1 nl_var: 0\n"
     ]
    }
   ],
   "source": [
    "g_var = 0\n",
    "nl_var = 0\n",
    "print(\"top level -> g_var: {0} nl_var: {1}\".format(g_var, nl_var))\n",
    "\n",
    "def test():\n",
    "    nl_var = 2 # nl_var in inner_test binds to nl_var in test\n",
    "    print(\"top level -> g_var: {0} nl_var: {1}\".format(g_var, nl_var))\n",
    "    def inner_test():\n",
    "        global g_var # g_var in inner-test binds top-level g_var\n",
    "        nonlocal nl_var # nl_var in inner_test binds to nl_var in test\n",
    "        g_var = 1\n",
    "        nl_var = 4\n",
    "        print(\"top level -> g_var: {0} nl_var: {1}\".format(g_var, nl_var))\n",
    "    \n",
    "    inner_test()\n",
    "    print(\"top level -> g_var: {0} nl_var: {1}\".format(g_var, nl_var))\n",
    "\n",
    "test() # predict 0, 0; 0, 2; 1, 4; 1, 4; 1, 0\n",
    "print(\"top level -> g_var: {0} nl_var: {1}\".format(g_var, nl_var))\n"
   ]
  },
  {
   "cell_type": "markdown",
   "metadata": {},
   "source": [
    "Assuming that x = 5, what will be the value of x after funct_1() below executes? After funct_2() executes?"
   ]
  },
  {
   "cell_type": "code",
   "execution_count": 40,
   "metadata": {},
   "outputs": [
    {
     "name": "stdout",
     "output_type": "stream",
     "text": [
      "2\n"
     ]
    }
   ],
   "source": [
    "x = 5\n",
    "\n",
    "def funct_1():\n",
    "    x = 3\n",
    "\n",
    "def funct_2():\n",
    "    global x\n",
    "    x = 2\n",
    "  \n",
    "funct_1()\n",
    "funct_2()\n",
    "print(x) # guess x = 2"
   ]
  },
  {
   "cell_type": "markdown",
   "metadata": {},
   "source": [
    "## 9.5 Assigning functions to variables\n",
    "Functions can be assigned, like other Python objects, to variables, as shown in this example"
   ]
  },
  {
   "cell_type": "code",
   "execution_count": 43,
   "metadata": {},
   "outputs": [
    {
     "name": "stdout",
     "output_type": "stream",
     "text": [
      "273.15\n",
      "273.15\n"
     ]
    }
   ],
   "source": [
    "def f_to_kelvin(degrees_f):\n",
    "    return 273.15 + (degrees_f - 32) * 5 / 9\n",
    "\n",
    "def c_to_kelvin(degrees_c):\n",
    "    return 273.15 + degrees_c\n",
    "\n",
    "abs_temperature = f_to_kelvin\n",
    "print(abs_temperature(32))\n",
    "\n",
    "abs_temperature = c_to_kelvin\n",
    "print(abs_temperature(0))"
   ]
  },
  {
   "cell_type": "markdown",
   "metadata": {},
   "source": [
    "You can place functions in lists, tuples, or dictionaries:"
   ]
  },
  {
   "cell_type": "code",
   "execution_count": 50,
   "metadata": {},
   "outputs": [
    {
     "name": "stdout",
     "output_type": "stream",
     "text": [
      "273.15\n",
      "<function f_to_kelvin at 0x10feb7560>\n"
     ]
    }
   ],
   "source": [
    "t = {'FtoK': f_to_kelvin, 'CtoK': c_to_kelvin}\n",
    "print(t['FtoK'](32)) # access the f_to_kelvin function as value in dictionary\n",
    "print(t['FtoK'])"
   ]
  },
  {
   "cell_type": "markdown",
   "metadata": {},
   "source": [
    "## 9.6 lambda expressions\n",
    "Short functions like those you just saw can also be defined by using `lambda` expressions of the form\n",
    "\n",
    "No return statement because the value of the expression is automatically returned. "
   ]
  },
  {
   "cell_type": "code",
   "execution_count": 53,
   "metadata": {},
   "outputs": [
    {
     "data": {
      "text/plain": [
       "273.15"
      ]
     },
     "execution_count": 53,
     "metadata": {},
     "output_type": "execute_result"
    }
   ],
   "source": [
    "t2 = {'FtoK': lambda def_k: 273.15 + (def_k - 32) * 5 / 9,\n",
    "     'CtoK': lambda def_c: 237.5 + deg_c}\n",
    "\n",
    "t2['FtoK'](32)"
   ]
  },
  {
   "cell_type": "markdown",
   "metadata": {},
   "source": [
    "## 9.7 Generator functions\n",
    "You return each iteration's value using the `yield` keyboard"
   ]
  },
  {
   "cell_type": "code",
   "execution_count": 57,
   "metadata": {},
   "outputs": [
    {
     "name": "stdout",
     "output_type": "stream",
     "text": [
      "in generator, x =  0\n",
      "0\n",
      "in generator, x =  1\n",
      "1\n",
      "in generator, x =  2\n",
      "2\n",
      "in generator, x =  3\n",
      "3\n"
     ]
    }
   ],
   "source": [
    "def four():\n",
    "    x = 0\n",
    "    while x < 4:\n",
    "        print(\"in generator, x = \", x)\n",
    "        yield x\n",
    "        x += 1\n",
    "\n",
    "for i in four():\n",
    "    print(i)"
   ]
  },
  {
   "cell_type": "code",
   "execution_count": 63,
   "metadata": {},
   "outputs": [
    {
     "name": "stdout",
     "output_type": "stream",
     "text": [
      "0\n",
      "1\n",
      "2\n",
      "3\n",
      "4\n",
      "5\n"
     ]
    }
   ],
   "source": [
    "# yield vs. yield from\n",
    "\n",
    "def subgen(x):\n",
    "    for i in range(x):\n",
    "        yield i\n",
    "\n",
    "def gen(y):\n",
    "    yield from subgen(y)\n",
    "    \n",
    "for q in gen(6):\n",
    "    print(q)\n",
    "    \n"
   ]
  },
  {
   "cell_type": "code",
   "execution_count": 64,
   "metadata": {},
   "outputs": [],
   "source": [
    "# you can also use generator funcrtion with in to see"
   ]
  },
  {
   "cell_type": "code",
   "execution_count": 68,
   "metadata": {},
   "outputs": [
    {
     "name": "stdout",
     "output_type": "stream",
     "text": [
      "in generator, x =  0\n",
      "in generator, x =  1\n",
      "in generator, x =  2\n",
      "True\n",
      "in generator, x =  0\n",
      "in generator, x =  1\n",
      "in generator, x =  2\n",
      "in generator, x =  3\n",
      "False\n"
     ]
    }
   ],
   "source": [
    "print(2 in four())\n",
    "\n",
    "print(5 in four())"
   ]
  },
  {
   "cell_type": "markdown",
   "metadata": {},
   "source": [
    "## 9.8 Decorators\n",
    "\n",
    "Python function can take another function as its parameter, wraps it in another function that does something related, and then returns the new function"
   ]
  },
  {
   "cell_type": "code",
   "execution_count": 78,
   "metadata": {},
   "outputs": [
    {
     "name": "stdout",
     "output_type": "stream",
     "text": [
      "in decorate function, docorating myfunction\n",
      "Executing myfunction\n",
      "hello\n"
     ]
    }
   ],
   "source": [
    "def decorate(func):\n",
    "    print(\"in decorate function, docorating\", func.__name__)\n",
    "    def wrapper_func(*args):\n",
    "        print(\"Executing\", func.__name__)\n",
    "        return func(*args)\n",
    "    return wrapper_func\n",
    "\n",
    "@decorate\n",
    "def myfunction(parameter):\n",
    "    print(parameter)\n",
    "    \n",
    "myfunction(\"hello\")"
   ]
  },
  {
   "cell_type": "code",
   "execution_count": 89,
   "metadata": {},
   "outputs": [
    {
     "name": "stdout",
     "output_type": "stream",
     "text": [
      "in decorate function, docorating myfunction\n",
      "Executing myfunction\n",
      "hello\n"
     ]
    }
   ],
   "source": [
    "def decorate(func):\n",
    "    print(\"in decorate function, docorating\", func.__name__)\n",
    "    def wrapper_func(*args):\n",
    "        print(\"Executing\", func.__name__)\n",
    "        return func(*args)\n",
    "    return wrapper_func\n",
    "\n",
    "@decorate\n",
    "def myfunction(parameter):\n",
    "    print(parameter)\n",
    "    \n",
    "myfunction(\"hello\")"
   ]
  },
  {
   "cell_type": "code",
   "execution_count": null,
   "metadata": {},
   "outputs": [],
   "source": []
  }
 ],
 "metadata": {
  "kernelspec": {
   "display_name": "Python 3",
   "language": "python",
   "name": "python3"
  },
  "language_info": {
   "codemirror_mode": {
    "name": "ipython",
    "version": 3
   },
   "file_extension": ".py",
   "mimetype": "text/x-python",
   "name": "python",
   "nbconvert_exporter": "python",
   "pygments_lexer": "ipython3",
   "version": "3.7.5"
  }
 },
 "nbformat": 4,
 "nbformat_minor": 2
}
