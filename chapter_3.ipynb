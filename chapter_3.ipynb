{
 "cells": [
  {
   "cell_type": "markdown",
   "metadata": {},
   "source": [
    "# Chapter 3: The quick python overview"
   ]
  },
  {
   "cell_type": "markdown",
   "metadata": {},
   "source": [
    "This chapter covers\n",
    "- Surveying Python\n",
    "- Using build-in data types\n",
    "- controlling program flow\n",
    "- creating modules\n",
    "- using object-oriented programming"
   ]
  },
  {
   "cell_type": "markdown",
   "metadata": {},
   "source": [
    "## 3.2 Build-in data types\n",
    "### 3.2.1 Numbers"
   ]
  },
  {
   "cell_type": "code",
   "execution_count": 9,
   "metadata": {},
   "outputs": [
    {
     "data": {
      "text/plain": [
       "-2.1207457766159625"
      ]
     },
     "execution_count": 9,
     "metadata": {},
     "output_type": "execute_result"
    }
   ],
   "source": [
    "(3+2j) ** (2 + 3j)\n",
    "x = (3 + 2j) ** (2 + 3j)\n",
    "x\n",
    "x.real\n",
    "x.imag"
   ]
  },
  {
   "cell_type": "code",
   "execution_count": 12,
   "metadata": {},
   "outputs": [
    {
     "data": {
      "text/plain": [
       "3"
      ]
     },
     "execution_count": 12,
     "metadata": {},
     "output_type": "execute_result"
    }
   ],
   "source": [
    "import math\n",
    "math.ceil(3.49)\n",
    "math.floor(3.49)\n",
    "round(3.49)"
   ]
  },
  {
   "cell_type": "markdown",
   "metadata": {},
   "source": [
    "### 3.2.2 Lists"
   ]
  },
  {
   "cell_type": "code",
   "execution_count": 14,
   "metadata": {},
   "outputs": [
    {
     "name": "stdout",
     "output_type": "stream",
     "text": [
      "[1, 2, 3, 4, 5, 6, 7, 8, 9]\n",
      "[9, 8, 7, 6, 5, 4, 3, 2, 1]\n"
     ]
    }
   ],
   "source": [
    "x = [1,2,3,4,5,6,7,8,9]\n",
    "len(x)\n",
    "print(x)\n",
    "x.reverse()\n",
    "print(x)"
   ]
  },
  {
   "cell_type": "markdown",
   "metadata": {},
   "source": [
    "### 3.2.3 Tuple"
   ]
  },
  {
   "cell_type": "code",
   "execution_count": 17,
   "metadata": {},
   "outputs": [
    {
     "name": "stdout",
     "output_type": "stream",
     "text": [
      "(1, 2, 3, 4)\n"
     ]
    },
    {
     "data": {
      "text/plain": [
       "list"
      ]
     },
     "execution_count": 17,
     "metadata": {},
     "output_type": "execute_result"
    }
   ],
   "source": [
    "x = [1,2,3,4]\n",
    "print(tuple(x))\n",
    "type(x)"
   ]
  },
  {
   "cell_type": "markdown",
   "metadata": {},
   "source": [
    "### 3.2.4 Strings"
   ]
  },
  {
   "cell_type": "code",
   "execution_count": 23,
   "metadata": {
    "scrolled": true
   },
   "outputs": [
    {
     "data": {
      "text/plain": [
       "'live and let live'"
      ]
     },
     "execution_count": 23,
     "metadata": {},
     "output_type": "execute_result"
    }
   ],
   "source": [
    "x = \"live and  let \\t \\tlive\"\n",
    "x.split()\n",
    "x.replace(\"  let \\t \\tlive\", \" enjoy life\")\n",
    "import re\n",
    "regexpr = re.compile(r\"[\\t ]+\")\n",
    "regexpr.sub(\" \", x)"
   ]
  },
  {
   "cell_type": "code",
   "execution_count": 25,
   "metadata": {},
   "outputs": [
    {
     "name": "stdout",
     "output_type": "stream",
     "text": [
      "The constant e is: 2.718 and the list x is: [1, 'two', 2, 4.0, ['a', 'b'], (5, 6)]\n",
      "The value of e is: 2.72\n"
     ]
    }
   ],
   "source": [
    "e = 2.718\n",
    "x = [1, \"two\", 2, 4.0, [\"a\", \"b\"], (5,6)]\n",
    "print(\"The constant e is:\", e, \"and the list x is:\", x)\n",
    "print(\"The value of %s is: %.2f\" % (\"e\", e))"
   ]
  },
  {
   "cell_type": "markdown",
   "metadata": {},
   "source": [
    "### 3.2.5 Dictionaries\n",
    "several dictionary methods (clear, copy, get, items, keys, update, and vlaues) are available"
   ]
  },
  {
   "cell_type": "code",
   "execution_count": 34,
   "metadata": {},
   "outputs": [
    {
     "name": "stdout",
     "output_type": "stream",
     "text": [
      "None\n"
     ]
    }
   ],
   "source": [
    "x = {1: \"One\", 2: \"Two\"}\n",
    "x[\"first\"] = \"One\"\n",
    "x [(\"Delorme\", \"Ryan\", 1995)] = (1,2,3)\n",
    "list(x.keys())\n",
    "x[1]\n",
    "x.get(1, \"not available\")\n",
    "x.get(4, \"not available\")\n",
    "x.get(1)\n",
    "print(x.get(4))"
   ]
  },
  {
   "cell_type": "markdown",
   "metadata": {},
   "source": [
    "### 3.2.6 Sets\n",
    "A _set_ in python is an unordered collection of obects, used in situations where membership and uniqueness in the set are the main things you need to know about that object"
   ]
  },
  {
   "cell_type": "code",
   "execution_count": 41,
   "metadata": {},
   "outputs": [
    {
     "name": "stdout",
     "output_type": "stream",
     "text": [
      "{1, 2, 3, 5}\n"
     ]
    },
    {
     "data": {
      "text/plain": [
       "False"
      ]
     },
     "execution_count": 41,
     "metadata": {},
     "output_type": "execute_result"
    }
   ],
   "source": [
    "x = set([1,2,3,1,3,5])\n",
    "print(x)\n",
    "type(x)\n",
    "1 in x\n",
    "len(x)\n",
    "min(x)\n",
    "4 in x"
   ]
  },
  {
   "cell_type": "markdown",
   "metadata": {},
   "source": [
    "### 3.2.7 File objects"
   ]
  },
  {
   "cell_type": "code",
   "execution_count": 42,
   "metadata": {},
   "outputs": [
    {
     "data": {
      "text/plain": [
       "'/Users/yifeiliu/Documents/Jupyter/quick_python'"
      ]
     },
     "execution_count": 42,
     "metadata": {},
     "output_type": "execute_result"
    }
   ],
   "source": [
    "import os\n",
    "os.getcwd()"
   ]
  },
  {
   "cell_type": "code",
   "execution_count": 46,
   "metadata": {},
   "outputs": [
    {
     "ename": "AttributeError",
     "evalue": "'_io.TextIOWrapper' object has no attribute 'readlien'",
     "output_type": "error",
     "traceback": [
      "\u001b[0;31m---------------------------------------------------------------------------\u001b[0m",
      "\u001b[0;31mAttributeError\u001b[0m                            Traceback (most recent call last)",
      "\u001b[0;32m<ipython-input-46-7c65d3b1e505>\u001b[0m in \u001b[0;36m<module>\u001b[0;34m\u001b[0m\n\u001b[1;32m      4\u001b[0m \u001b[0mf\u001b[0m\u001b[0;34m.\u001b[0m\u001b[0mclose\u001b[0m\u001b[0;34m(\u001b[0m\u001b[0;34m)\u001b[0m\u001b[0;34m\u001b[0m\u001b[0;34m\u001b[0m\u001b[0m\n\u001b[1;32m      5\u001b[0m \u001b[0mf\u001b[0m \u001b[0;34m=\u001b[0m \u001b[0mopen\u001b[0m\u001b[0;34m(\u001b[0m\u001b[0;34m\"res/myfile.txt\"\u001b[0m\u001b[0;34m,\u001b[0m \u001b[0;34m\"r\"\u001b[0m\u001b[0;34m)\u001b[0m\u001b[0;34m\u001b[0m\u001b[0;34m\u001b[0m\u001b[0m\n\u001b[0;32m----> 6\u001b[0;31m \u001b[0mline1\u001b[0m \u001b[0;34m=\u001b[0m \u001b[0mf\u001b[0m\u001b[0;34m.\u001b[0m\u001b[0mreadlien\u001b[0m\u001b[0;34m(\u001b[0m\u001b[0;34m)\u001b[0m\u001b[0;34m\u001b[0m\u001b[0;34m\u001b[0m\u001b[0m\n\u001b[0m\u001b[1;32m      7\u001b[0m \u001b[0mline2\u001b[0m \u001b[0;34m=\u001b[0m \u001b[0mf\u001b[0m\u001b[0;34m.\u001b[0m\u001b[0mreadline\u001b[0m\u001b[0;34m(\u001b[0m\u001b[0;34m)\u001b[0m\u001b[0;34m\u001b[0m\u001b[0;34m\u001b[0m\u001b[0m\n\u001b[1;32m      8\u001b[0m \u001b[0mf\u001b[0m\u001b[0;34m.\u001b[0m\u001b[0mclose\u001b[0m\u001b[0;34m(\u001b[0m\u001b[0;34m)\u001b[0m\u001b[0;34m\u001b[0m\u001b[0;34m\u001b[0m\u001b[0m\n",
      "\u001b[0;31mAttributeError\u001b[0m: '_io.TextIOWrapper' object has no attribute 'readlien'"
     ]
    }
   ],
   "source": [
    "f = open(\"res/myfile.txt\", \"w\")\n",
    "f.write(\"First lines with necessary newline character\\n\")\n",
    "f.write(\"second line to write to the file\\n\")\n",
    "f.close()"
   ]
  },
  {
   "cell_type": "code",
   "execution_count": 47,
   "metadata": {},
   "outputs": [
    {
     "name": "stdout",
     "output_type": "stream",
     "text": [
      "First lines with necessary newline character\n",
      " second line to write to the file\n",
      "\n"
     ]
    }
   ],
   "source": [
    "f = open(\"res/myfile.txt\", \"r\")\n",
    "line1 = f.readline()\n",
    "line2 = f.readline()\n",
    "f.close()\n",
    "print(line1, line2)"
   ]
  },
  {
   "cell_type": "code",
   "execution_count": 48,
   "metadata": {},
   "outputs": [
    {
     "name": "stdout",
     "output_type": "stream",
     "text": [
      "/Users/yifeiliu/Documents/Jupyter/quick_python\n"
     ]
    }
   ],
   "source": [
    "print(os.getcwd())"
   ]
  },
  {
   "cell_type": "markdown",
   "metadata": {},
   "source": [
    "## 3.3 control flow structure"
   ]
  },
  {
   "cell_type": "code",
   "execution_count": 49,
   "metadata": {},
   "outputs": [
    {
     "name": "stdout",
     "output_type": "stream",
     "text": [
      "found an integer divisible by seven: 49\n"
     ]
    }
   ],
   "source": [
    "item_list = [3, \"string1\", 23, 14.0, \"string2\", 49, 64, 70]\n",
    "for x in item_list:\n",
    "    if not isinstance(x, int):\n",
    "        continue\n",
    "    if not x % 7:\n",
    "        print(\"found an integer divisible by seven: %d\" %x)\n",
    "        break"
   ]
  },
  {
   "cell_type": "code",
   "execution_count": 51,
   "metadata": {},
   "outputs": [
    {
     "name": "stdout",
     "output_type": "stream",
     "text": [
      "(2, 1, 1)\n",
      "(1, 2, 3, 4, 5, 6, 7, 8, 9)\n"
     ]
    }
   ],
   "source": [
    "def function3(x, y = 1, z = 1, *tup):\n",
    "    print((x, y, z) + tup)\n",
    "    \n",
    "function3(2)\n",
    "function3(1,2,3,4,5,6,7,8,9)"
   ]
  },
  {
   "cell_type": "code",
   "execution_count": 52,
   "metadata": {},
   "outputs": [
    {
     "name": "stdout",
     "output_type": "stream",
     "text": [
      "1 2 3 {'m': 5, 'n': 9}\n"
     ]
    }
   ],
   "source": [
    "def function4(x, y = 1, z = 1, **kwargs):\n",
    "    print(x, y, z, kwargs)\n",
    "\n",
    "function4(1, 2, m = 5, n = 9, z = 3)"
   ]
  },
  {
   "cell_type": "markdown",
   "metadata": {},
   "source": [
    "### 3.3.6 Exceptions"
   ]
  },
  {
   "cell_type": "markdown",
   "metadata": {},
   "source": [
    "### 3.3.7 Context handling using the with keyboard\n",
    "A more streamlined way to encapsulating the try-except-finally pattern is to use the with keyboard and a context manager"
   ]
  },
  {
   "cell_type": "code",
   "execution_count": 57,
   "metadata": {},
   "outputs": [
    {
     "name": "stdout",
     "output_type": "stream",
     "text": [
      "First lines with necessary newline character\n",
      "\n",
      "second line to write to the file\n",
      "\n"
     ]
    }
   ],
   "source": [
    "filename = \"res/myfile.txt\"\n",
    "\n",
    "with open(filename, \"r\", encoding = \"utf8\") as f:\n",
    "    for line in f:\n",
    "        print(line)"
   ]
  },
  {
   "cell_type": "markdown",
   "metadata": {},
   "source": [
    "## 3.4 Module creation\n",
    "easy to create your own modules, and can be imported and used in the same way as Python build in library. "
   ]
  },
  {
   "cell_type": "code",
   "execution_count": 58,
   "metadata": {},
   "outputs": [
    {
     "name": "stdout",
     "output_type": "stream",
     "text": [
      "Enter the name of the file: res/myfile.txt\n",
      "File res/myfile.txt has 13 words (12 are unique)\n",
      "{'First': 1, 'lines': 1, 'with': 1, 'necessary': 1, 'newline': 1, 'character': 1, 'second': 1, 'line': 1, 'to': 2, 'write': 1, 'the': 1, 'file': 1}\n"
     ]
    }
   ],
   "source": [
    "\"\"\"wo module. Contains function: words_occur()\"\"\"\n",
    "# interface fucntions\n",
    "def words_occur():\n",
    "    \"\"\"words_occur() - count the occurrences of words in a file\"\"\"\n",
    "    # prompt user for the name of the file to use.\n",
    "    file_name = input(\"Enter the name of the file: \")\n",
    "    # open the file, read it and store its words in a list\n",
    "    with open(file_name, \"r\", encoding = \"utf8\") as f:\n",
    "        word_list = f.read().split()\n",
    "    # count the number of occurrences of each word in the file.\n",
    "    occurs_dict = {}\n",
    "    for word in word_list:\n",
    "        # increment the occurrences count for this word\n",
    "        occurs_dict[word] = occurs_dict.get(word, 0) + 1\n",
    "    # print out the result.\n",
    "    print(\"File %s has %d words (%d are unique)\" \\\n",
    "         % (file_name, len(word_list), len(occurs_dict)))\n",
    "    print(occurs_dict)\n",
    "if __name__ == '__main__':\n",
    "    words_occur()\n",
    "    \n",
    "    "
   ]
  },
  {
   "cell_type": "code",
   "execution_count": null,
   "metadata": {},
   "outputs": [],
   "source": [
    "\n"
   ]
  }
 ],
 "metadata": {
  "kernelspec": {
   "display_name": "Python 3",
   "language": "python",
   "name": "python3"
  },
  "language_info": {
   "codemirror_mode": {
    "name": "ipython",
    "version": 3
   },
   "file_extension": ".py",
   "mimetype": "text/x-python",
   "name": "python",
   "nbconvert_exporter": "python",
   "pygments_lexer": "ipython3",
   "version": "3.7.5"
  }
 },
 "nbformat": 4,
 "nbformat_minor": 2
}
