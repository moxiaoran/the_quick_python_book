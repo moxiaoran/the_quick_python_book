{
 "cells": [
  {
   "cell_type": "markdown",
   "metadata": {},
   "source": [
    "# Chapter 8 Control flow\n",
    "- Repeating code with a `while` loop\n",
    "- Making decisions: the `if-elif-else` statement\n",
    "- Iterating over a list with `for` loop\n",
    "- Using list and dictionary comprehensions\n",
    "- Delimiting statements and blocks with indentation\n",
    "- Evaluating Boolean values and expressions"
   ]
  },
  {
   "cell_type": "markdown",
   "metadata": {},
   "source": [
    "## 8.1 The while loop\n",
    "\n",
    "```python\n",
    "while condition:\n",
    "    body\n",
    "else:\n",
    "    post-code\n",
    "```"
   ]
  },
  {
   "cell_type": "markdown",
   "metadata": {},
   "source": [
    "## 8.2 The ife-elif-else statement\n",
    "## 8.3 The for loop\n",
    "### 8.3.1 The range function"
   ]
  },
  {
   "cell_type": "code",
   "execution_count": 60,
   "metadata": {},
   "outputs": [
    {
     "name": "stdout",
     "output_type": "stream",
     "text": [
      "Found a positive number at index  0\n",
      "Found a positive number at index  1\n",
      "Found a negative number at index  2\n",
      "Found a positive number at index  3\n",
      "Found a positive number at index  4\n",
      "Found a negative number at index  5\n",
      "Found a positive number at index  6\n",
      "[5, 4, 3, 2, 1]\n"
     ]
    }
   ],
   "source": [
    "import os\n",
    "\n",
    "x = [1, 3, -7, 4, 9, -5, 4]\n",
    "for i in range(len(x)):\n",
    "    if x[i] <0:\n",
    "        print(\"Found a negative number at index \", i)\n",
    "    else:\n",
    "        print(\"Found a positive number at index \", i)\n",
    "        \n",
    "# for count backward\n",
    "print(list(range(5, 0, -1)))"
   ]
  },
  {
   "cell_type": "markdown",
   "metadata": {},
   "source": [
    "### 8.3.3 Using break and continous in for loops\n",
    "### 8.3.4 The for loop and tuple unpacking"
   ]
  },
  {
   "cell_type": "code",
   "execution_count": 7,
   "metadata": {},
   "outputs": [
    {
     "name": "stdout",
     "output_type": "stream",
     "text": [
      "68\n",
      "[(1, 2), (3, 7), (9, 5)]\n",
      "68\n",
      "[(1, 2), (3, 7), (9, 5)]\n"
     ]
    }
   ],
   "source": [
    "somelist = [(1, 2), (3, 7), (9, 5)] \n",
    "result = 0\n",
    "for t in somelist:\n",
    "    result = result + (t[0] * t[1])\n",
    "print(result)\n",
    "print(somelist)\n",
    "# cleaner version\n",
    "result = 0\n",
    "\n",
    "for x, y in somelist:\n",
    "    result = result + (x * y)\n",
    "print(result)\n",
    "print(somelist)"
   ]
  },
  {
   "cell_type": "markdown",
   "metadata": {},
   "source": [
    "### 8.3.5 The enumerate function "
   ]
  },
  {
   "cell_type": "code",
   "execution_count": 17,
   "metadata": {
    "scrolled": true
   },
   "outputs": [
    {
     "name": "stdout",
     "output_type": "stream",
     "text": [
      "0 1\n",
      "1 3\n",
      "2 -7\n",
      "3 4\n",
      "4 9\n",
      "5 -5\n",
      "6 4\n",
      "[(0, 1), (1, 3), (2, -7), (3, 4), (4, 9), (5, -5), (6, 4)]\n"
     ]
    }
   ],
   "source": [
    "x = [1, 3, -7, 4, 9, -5, 4]\n",
    "\n",
    "for i, n in enumerate(x):\n",
    "    print(i, n)\n",
    "    \n",
    "print(list(enumerate(x)))"
   ]
  },
  {
   "cell_type": "markdown",
   "metadata": {},
   "source": [
    "### 8.3.6 The zip function\n",
    "`zip`: combine two or more iterables and combines them into tuples until it reaches the end of the **shorter** iterable"
   ]
  },
  {
   "cell_type": "code",
   "execution_count": 16,
   "metadata": {},
   "outputs": [
    {
     "name": "stdout",
     "output_type": "stream",
     "text": [
      "[(1, 'a'), (2, 'b'), (3, 'c')]\n"
     ]
    }
   ],
   "source": [
    "x = [1, 2, 3]\n",
    "y = ['a', 'b', 'c']\n",
    "z = zip(x, y)\n",
    "print(list(z))"
   ]
  },
  {
   "cell_type": "code",
   "execution_count": 19,
   "metadata": {},
   "outputs": [
    {
     "name": "stdout",
     "output_type": "stream",
     "text": [
      "[1, 3, 5, 0, 3]\n"
     ]
    }
   ],
   "source": [
    "# remove all negative number in a list\n",
    "x = [1, 3, 5, 0, -1, 3, -2]\n",
    "y = []\n",
    "for element in x:\n",
    "    if element < 0:\n",
    "        continue\n",
    "    else:\n",
    "        y.append(element)\n",
    "        \n",
    "print(y)"
   ]
  },
  {
   "cell_type": "code",
   "execution_count": 33,
   "metadata": {},
   "outputs": [
    {
     "name": "stdout",
     "output_type": "stream",
     "text": [
      "{(1, -1, 0): 1, (2, 5, -9): 1, (-2, -3, 0): 2}\n"
     ]
    }
   ],
   "source": [
    "# count the total number of negative numbers in a list\n",
    "y = [[1, -1, 0], [2, 5, -9], [-2, -3, 0]]\n",
    "z = {}\n",
    "for element in y:\n",
    "    element_tu = tuple(element)\n",
    "    if element_tu in z:\n",
    "            continue\n",
    "    for indiv in element:\n",
    "        if indiv < 0:\n",
    "            z[element_tu] = z.get(element_tu, 0) + 1\n",
    "        else:\n",
    "            continue\n",
    "\n",
    "print(z)"
   ]
  },
  {
   "cell_type": "code",
   "execution_count": null,
   "metadata": {},
   "outputs": [],
   "source": [
    "# print certain character for certain number range"
   ]
  },
  {
   "cell_type": "markdown",
   "metadata": {},
   "source": [
    "## 8.4 List and dictionary comprehensions"
   ]
  },
  {
   "cell_type": "code",
   "execution_count": 37,
   "metadata": {},
   "outputs": [
    {
     "name": "stdout",
     "output_type": "stream",
     "text": [
      "[1, 4, 9, 16]\n",
      "[9, 16]\n",
      "{1: 1, 2: 4, 3: 9, 4: 16}\n"
     ]
    }
   ],
   "source": [
    "x = list(range(1, 5))\n",
    "x_sequared = [item * item for item in x]\n",
    "print(x_sequared)\n",
    "\n",
    "x_sequared = [item * item for item in x if item > 2]\n",
    "print(x_sequared)\n",
    "\n",
    "x_sequared_dict = {item: item * item for item in x}\n",
    "print(x_sequared_dict)"
   ]
  },
  {
   "cell_type": "markdown",
   "metadata": {},
   "source": [
    "### 8.4.1 Generator expressions"
   ]
  },
  {
   "cell_type": "code",
   "execution_count": 42,
   "metadata": {},
   "outputs": [
    {
     "name": "stdout",
     "output_type": "stream",
     "text": [
      "<generator object <genexpr> at 0x111ffc7d0>\n",
      "1\n",
      "4\n",
      "9\n",
      "16\n"
     ]
    }
   ],
   "source": [
    "x = list(range(1, 5))\n",
    "x_sequared = (item * item for item in x)\n",
    "print(x_sequared)\n",
    "\n",
    "for square in x_sequared:\n",
    "    print(square, )"
   ]
  },
  {
   "cell_type": "code",
   "execution_count": 44,
   "metadata": {},
   "outputs": [
    {
     "name": "stdout",
     "output_type": "stream",
     "text": [
      "<generator object <genexpr> at 0x111ffc750>\n",
      "1\n",
      "3\n",
      "5\n",
      "3\n"
     ]
    }
   ],
   "source": [
    "# What list comprehension would you use to process the list x so that all negative values are removed?\n",
    "x = [1, 3, 5, 0, -1, 3, -2]\n",
    "\n",
    "x_remove_neg = (item for item in x if item > 0)\n",
    "print(x_remove_neg)\n",
    "\n",
    "for item in x_remove_neg:\n",
    "    print(item, )"
   ]
  },
  {
   "cell_type": "code",
   "execution_count": 48,
   "metadata": {},
   "outputs": [
    {
     "name": "stdout",
     "output_type": "stream",
     "text": [
      "<generator object <genexpr> at 0x111ffc8d0>\n",
      "1\n",
      "3\n",
      "5\n",
      "3\n"
     ]
    }
   ],
   "source": [
    "# Create a generator that returns only odd numbers from 1 to 100.\n",
    "x = [1, 3, 5, 0, -1, 3, -2, 101]\n",
    "\n",
    "x_odd_small = (item for item in x if item % 2 == 1 and item < 100 and item > 0)\n",
    "\n",
    "print(x_odd_small)\n",
    "\n",
    "for item in x_odd_small:\n",
    "    print(item, )"
   ]
  },
  {
   "cell_type": "markdown",
   "metadata": {},
   "source": [
    "## 8.5 Statements, blocks, and indentation\n",
    "## 8.6 Boolean values and expressions\n",
    "### 8.6.1 Most python objects can be used as Booleans"
   ]
  },
  {
   "cell_type": "code",
   "execution_count": 52,
   "metadata": {},
   "outputs": [
    {
     "name": "stdout",
     "output_type": "stream",
     "text": [
      "True\n"
     ]
    }
   ],
   "source": [
    "print(0.0 == False)"
   ]
  },
  {
   "cell_type": "markdown",
   "metadata": {},
   "source": [
    "### 8.6.2 Comparison and Boolean operator"
   ]
  },
  {
   "cell_type": "code",
   "execution_count": 57,
   "metadata": {},
   "outputs": [
    {
     "name": "stdout",
     "output_type": "stream",
     "text": [
      "[3, 4]\n",
      "[2]\n",
      "[]\n",
      "[3, 4]\n"
     ]
    }
   ],
   "source": [
    "print([2] and [3, 4])\n",
    "print([2] or [3, 4])\n",
    "print([] and [3, 4])\n",
    "print([2] and [3, 4])\n"
   ]
  },
  {
   "cell_type": "markdown",
   "metadata": {},
   "source": [
    "## 8.7 Writing a simple program to analyze a text file"
   ]
  },
  {
   "cell_type": "code",
   "execution_count": 67,
   "metadata": {},
   "outputs": [
    {
     "name": "stdout",
     "output_type": "stream",
     "text": [
      "/Users/yifeiliu/Documents/Jupyter/quick_python\n",
      "File has 4 lines, 30 words, 188 characters\n"
     ]
    }
   ],
   "source": [
    "path = os.getcwd()\n",
    "print(path)\n",
    "\n",
    "infile = open('word_count.txt')\n",
    "\n",
    "lines = infile.read().split(\"\\n\")\n",
    "\n",
    "line_count = len(lines)\n",
    "word_count = 0\n",
    "char_count = 0\n",
    "\n",
    "for line in lines:\n",
    "    \n",
    "    words = line.split()\n",
    "    word_count += len(words)\n",
    "    char_count += len(line)\n",
    "    \n",
    "    \n",
    "print(\"File has {0} lines, {1} words, {2} characters\".format (line_count, word_count, char_count))\n",
    "\n",
    "infile.close()"
   ]
  },
  {
   "cell_type": "code",
   "execution_count": 92,
   "metadata": {},
   "outputs": [
    {
     "name": "stdout",
     "output_type": "stream",
     "text": [
      "including\n",
      "while\n",
      "and\n",
      "for\n",
      "loops\n",
      "and\n",
      "conditionals\n"
     ]
    },
    {
     "ename": "AttributeError",
     "evalue": "'list' object has no attribute 'split'",
     "output_type": "error",
     "traceback": [
      "\u001b[0;31m---------------------------------------------------------------------------\u001b[0m",
      "\u001b[0;31mAttributeError\u001b[0m                            Traceback (most recent call last)",
      "\u001b[0;32m<ipython-input-92-93a3741ff0fd>\u001b[0m in \u001b[0;36m<module>\u001b[0;34m\u001b[0m\n\u001b[1;32m      6\u001b[0m     \u001b[0mprint\u001b[0m\u001b[0;34m(\u001b[0m\u001b[0melement\u001b[0m\u001b[0;34m.\u001b[0m\u001b[0mstrip\u001b[0m\u001b[0;34m(\u001b[0m\u001b[0;34m\",.\"\u001b[0m\u001b[0;34m)\u001b[0m\u001b[0;34m)\u001b[0m\u001b[0;34m\u001b[0m\u001b[0;34m\u001b[0m\u001b[0m\n\u001b[1;32m      7\u001b[0m \u001b[0;34m\u001b[0m\u001b[0m\n\u001b[0;32m----> 8\u001b[0;31m \u001b[0mlines\u001b[0m\u001b[0;34m[\u001b[0m\u001b[0;36m0\u001b[0m\u001b[0;34m:\u001b[0m\u001b[0;36m3\u001b[0m\u001b[0;34m]\u001b[0m\u001b[0;34m.\u001b[0m\u001b[0msplit\u001b[0m\u001b[0;34m(\u001b[0m\u001b[0;34m)\u001b[0m\u001b[0;34m\u001b[0m\u001b[0;34m\u001b[0m\u001b[0m\n\u001b[0m",
      "\u001b[0;31mAttributeError\u001b[0m: 'list' object has no attribute 'split'"
     ]
    }
   ],
   "source": [
    "# Rewrite the word-count program from section 8.7 to make it shorter.\n",
    "\n",
    "x = lines[1].split()\n",
    "\n",
    "for element in x:\n",
    "    print(element.strip(\",.\"))"
   ]
  }
 ],
 "metadata": {
  "kernelspec": {
   "display_name": "Python 3",
   "language": "python",
   "name": "python3"
  },
  "language_info": {
   "codemirror_mode": {
    "name": "ipython",
    "version": 3
   },
   "file_extension": ".py",
   "mimetype": "text/x-python",
   "name": "python",
   "nbconvert_exporter": "python",
   "pygments_lexer": "ipython3",
   "version": "3.7.5"
  }
 },
 "nbformat": 4,
 "nbformat_minor": 2
}
